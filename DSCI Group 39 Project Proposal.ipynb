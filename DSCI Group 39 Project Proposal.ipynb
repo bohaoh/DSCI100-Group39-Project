{
 "cells": [
  {
   "cell_type": "code",
   "execution_count": 1,
   "metadata": {},
   "outputs": [
    {
     "name": "stderr",
     "output_type": "stream",
     "text": [
      "── \u001b[1mAttaching packages\u001b[22m ─────────────────────────────────────── tidyverse 1.3.0 ──\n",
      "\n",
      "\u001b[32m✔\u001b[39m \u001b[34mggplot2\u001b[39m 3.3.2     \u001b[32m✔\u001b[39m \u001b[34mpurrr  \u001b[39m 0.3.4\n",
      "\u001b[32m✔\u001b[39m \u001b[34mtibble \u001b[39m 3.0.3     \u001b[32m✔\u001b[39m \u001b[34mdplyr  \u001b[39m 1.0.2\n",
      "\u001b[32m✔\u001b[39m \u001b[34mtidyr  \u001b[39m 1.1.2     \u001b[32m✔\u001b[39m \u001b[34mstringr\u001b[39m 1.4.0\n",
      "\u001b[32m✔\u001b[39m \u001b[34mreadr  \u001b[39m 1.3.1     \u001b[32m✔\u001b[39m \u001b[34mforcats\u001b[39m 0.5.0\n",
      "\n",
      "Warning message:\n",
      "“package ‘ggplot2’ was built under R version 4.0.1”\n",
      "Warning message:\n",
      "“package ‘tibble’ was built under R version 4.0.2”\n",
      "Warning message:\n",
      "“package ‘tidyr’ was built under R version 4.0.2”\n",
      "Warning message:\n",
      "“package ‘dplyr’ was built under R version 4.0.2”\n",
      "── \u001b[1mConflicts\u001b[22m ────────────────────────────────────────── tidyverse_conflicts() ──\n",
      "\u001b[31m✖\u001b[39m \u001b[34mdplyr\u001b[39m::\u001b[32mfilter()\u001b[39m masks \u001b[34mstats\u001b[39m::filter()\n",
      "\u001b[31m✖\u001b[39m \u001b[34mdplyr\u001b[39m::\u001b[32mlag()\u001b[39m    masks \u001b[34mstats\u001b[39m::lag()\n",
      "\n"
     ]
    }
   ],
   "source": [
    "library(tidyverse)"
   ]
  },
  {
   "cell_type": "code",
   "execution_count": 19,
   "metadata": {},
   "outputs": [
    {
     "name": "stderr",
     "output_type": "stream",
     "text": [
      "Parsed with column specification:\n",
      "cols(\n",
      "  crim = \u001b[31mcol_character()\u001b[39m,\n",
      "  zn = \u001b[31mcol_character()\u001b[39m,\n",
      "  indus = \u001b[31mcol_character()\u001b[39m,\n",
      "  chas = \u001b[31mcol_character()\u001b[39m,\n",
      "  nox = \u001b[31mcol_character()\u001b[39m,\n",
      "  rm = \u001b[31mcol_character()\u001b[39m,\n",
      "  age = \u001b[31mcol_character()\u001b[39m,\n",
      "  dis = \u001b[31mcol_character()\u001b[39m,\n",
      "  rad = \u001b[31mcol_character()\u001b[39m,\n",
      "  tax = \u001b[31mcol_character()\u001b[39m,\n",
      "  ptratio = \u001b[31mcol_character()\u001b[39m,\n",
      "  black = \u001b[31mcol_character()\u001b[39m,\n",
      "  lstat = \u001b[31mcol_character()\u001b[39m,\n",
      "  medv = \u001b[31mcol_character()\u001b[39m\n",
      ")\n",
      "\n"
     ]
    },
    {
     "data": {
      "text/html": [
       "<table>\n",
       "<caption>A tibble: 5 × 14</caption>\n",
       "<thead>\n",
       "\t<tr><th scope=col>crim</th><th scope=col>zn</th><th scope=col>indus</th><th scope=col>chas</th><th scope=col>nox</th><th scope=col>rm</th><th scope=col>age</th><th scope=col>dis</th><th scope=col>rad</th><th scope=col>tax</th><th scope=col>ptratio</th><th scope=col>black</th><th scope=col>lstat</th><th scope=col>medv</th></tr>\n",
       "\t<tr><th scope=col>&lt;chr&gt;</th><th scope=col>&lt;chr&gt;</th><th scope=col>&lt;chr&gt;</th><th scope=col>&lt;chr&gt;</th><th scope=col>&lt;chr&gt;</th><th scope=col>&lt;chr&gt;</th><th scope=col>&lt;chr&gt;</th><th scope=col>&lt;chr&gt;</th><th scope=col>&lt;chr&gt;</th><th scope=col>&lt;chr&gt;</th><th scope=col>&lt;chr&gt;</th><th scope=col>&lt;chr&gt;</th><th scope=col>&lt;chr&gt;</th><th scope=col>&lt;chr&gt;</th></tr>\n",
       "</thead>\n",
       "<tbody>\n",
       "\t<tr><td> 0.00632</td><td> 18.00</td><td>  2.310</td><td> 0</td><td> 0.5380</td><td> 6.5750</td><td> 65.20</td><td> 4.0900</td><td>  1</td><td> 296.0</td><td> 15.30</td><td>396.90</td><td>  4.98</td><td> 24.00</td></tr>\n",
       "\t<tr><td> 0.02731</td><td>  0.00</td><td>  7.070</td><td> 0</td><td> 0.4690</td><td> 6.4210</td><td> 78.90</td><td> 4.9671</td><td>  2</td><td> 242.0</td><td> 17.80</td><td>396.90</td><td>  9.14</td><td> 21.60</td></tr>\n",
       "\t<tr><td> 0.02729</td><td>  0.00</td><td>  7.070</td><td> 0</td><td> 0.4690</td><td> 7.1850</td><td> 61.10</td><td> 4.9671</td><td>  2</td><td> 242.0</td><td> 17.80</td><td>392.83</td><td>  4.03</td><td> 34.70</td></tr>\n",
       "\t<tr><td> 0.03237</td><td>  0.00</td><td>  2.180</td><td> 0</td><td> 0.4580</td><td> 6.9980</td><td> 45.80</td><td> 6.0622</td><td>  3</td><td> 222.0</td><td> 18.70</td><td>394.63</td><td>  2.94</td><td> 33.40</td></tr>\n",
       "\t<tr><td> 0.06905</td><td>  0.00</td><td>  2.180</td><td> 0</td><td> 0.4580</td><td> 7.1470</td><td> 54.20</td><td> 6.0622</td><td>  3</td><td> 222.0</td><td> 18.70</td><td>396.90</td><td>  5.33</td><td> 36.20</td></tr>\n",
       "</tbody>\n",
       "</table>\n"
      ],
      "text/latex": [
       "A tibble: 5 × 14\n",
       "\\begin{tabular}{llllllllllllll}\n",
       " crim & zn & indus & chas & nox & rm & age & dis & rad & tax & ptratio & black & lstat & medv\\\\\n",
       " <chr> & <chr> & <chr> & <chr> & <chr> & <chr> & <chr> & <chr> & <chr> & <chr> & <chr> & <chr> & <chr> & <chr>\\\\\n",
       "\\hline\n",
       "\t  0.00632 &  18.00 &   2.310 &  0 &  0.5380 &  6.5750 &  65.20 &  4.0900 &   1 &  296.0 &  15.30 & 396.90 &   4.98 &  24.00\\\\\n",
       "\t  0.02731 &   0.00 &   7.070 &  0 &  0.4690 &  6.4210 &  78.90 &  4.9671 &   2 &  242.0 &  17.80 & 396.90 &   9.14 &  21.60\\\\\n",
       "\t  0.02729 &   0.00 &   7.070 &  0 &  0.4690 &  7.1850 &  61.10 &  4.9671 &   2 &  242.0 &  17.80 & 392.83 &   4.03 &  34.70\\\\\n",
       "\t  0.03237 &   0.00 &   2.180 &  0 &  0.4580 &  6.9980 &  45.80 &  6.0622 &   3 &  222.0 &  18.70 & 394.63 &   2.94 &  33.40\\\\\n",
       "\t  0.06905 &   0.00 &   2.180 &  0 &  0.4580 &  7.1470 &  54.20 &  6.0622 &   3 &  222.0 &  18.70 & 396.90 &   5.33 &  36.20\\\\\n",
       "\\end{tabular}\n"
      ],
      "text/markdown": [
       "\n",
       "A tibble: 5 × 14\n",
       "\n",
       "| crim &lt;chr&gt; | zn &lt;chr&gt; | indus &lt;chr&gt; | chas &lt;chr&gt; | nox &lt;chr&gt; | rm &lt;chr&gt; | age &lt;chr&gt; | dis &lt;chr&gt; | rad &lt;chr&gt; | tax &lt;chr&gt; | ptratio &lt;chr&gt; | black &lt;chr&gt; | lstat &lt;chr&gt; | medv &lt;chr&gt; |\n",
       "|---|---|---|---|---|---|---|---|---|---|---|---|---|---|\n",
       "|  0.00632 |  18.00 |   2.310 |  0 |  0.5380 |  6.5750 |  65.20 |  4.0900 |   1 |  296.0 |  15.30 | 396.90 |   4.98 |  24.00 |\n",
       "|  0.02731 |   0.00 |   7.070 |  0 |  0.4690 |  6.4210 |  78.90 |  4.9671 |   2 |  242.0 |  17.80 | 396.90 |   9.14 |  21.60 |\n",
       "|  0.02729 |   0.00 |   7.070 |  0 |  0.4690 |  7.1850 |  61.10 |  4.9671 |   2 |  242.0 |  17.80 | 392.83 |   4.03 |  34.70 |\n",
       "|  0.03237 |   0.00 |   2.180 |  0 |  0.4580 |  6.9980 |  45.80 |  6.0622 |   3 |  222.0 |  18.70 | 394.63 |   2.94 |  33.40 |\n",
       "|  0.06905 |   0.00 |   2.180 |  0 |  0.4580 |  7.1470 |  54.20 |  6.0622 |   3 |  222.0 |  18.70 | 396.90 |   5.33 |  36.20 |\n",
       "\n"
      ],
      "text/plain": [
       "  crim     zn     indus   chas nox     rm      age    dis     rad tax   \n",
       "1  0.00632  18.00   2.310  0    0.5380  6.5750  65.20  4.0900   1  296.0\n",
       "2  0.02731   0.00   7.070  0    0.4690  6.4210  78.90  4.9671   2  242.0\n",
       "3  0.02729   0.00   7.070  0    0.4690  7.1850  61.10  4.9671   2  242.0\n",
       "4  0.03237   0.00   2.180  0    0.4580  6.9980  45.80  6.0622   3  222.0\n",
       "5  0.06905   0.00   2.180  0    0.4580  7.1470  54.20  6.0622   3  222.0\n",
       "  ptratio black  lstat  medv  \n",
       "1  15.30  396.90   4.98  24.00\n",
       "2  17.80  396.90   9.14  21.60\n",
       "3  17.80  392.83   4.03  34.70\n",
       "4  18.70  394.63   2.94  33.40\n",
       "5  18.70  396.90   5.33  36.20"
      ]
     },
     "metadata": {},
     "output_type": "display_data"
    }
   ],
   "source": [
    "housing<- read_delim(\"housing.csv\", col_names = c(\"crim\", \"zn\", \"indus\", \"chas\", \"nox\", \"rm\", \"age\", \"dis\", \"rad\", \"tax\", \"ptratio\", \"black\", \"lstat\", \"medv\"),\n",
    "                  delim = ' '\n",
    "                  )\n",
    "head(housing, 5)"
   ]
  },
  {
   "cell_type": "code",
   "execution_count": 22,
   "metadata": {},
   "outputs": [
    {
     "data": {
      "text/html": [
       "<table>\n",
       "<caption>A tibble: 5 × 12</caption>\n",
       "<thead>\n",
       "\t<tr><th scope=col>crim</th><th scope=col>zn</th><th scope=col>indus</th><th scope=col>rm</th><th scope=col>age</th><th scope=col>dis</th><th scope=col>rad</th><th scope=col>tax</th><th scope=col>ptratio</th><th scope=col>black</th><th scope=col>lstat</th><th scope=col>medv</th></tr>\n",
       "\t<tr><th scope=col>&lt;chr&gt;</th><th scope=col>&lt;chr&gt;</th><th scope=col>&lt;chr&gt;</th><th scope=col>&lt;chr&gt;</th><th scope=col>&lt;chr&gt;</th><th scope=col>&lt;chr&gt;</th><th scope=col>&lt;chr&gt;</th><th scope=col>&lt;chr&gt;</th><th scope=col>&lt;chr&gt;</th><th scope=col>&lt;chr&gt;</th><th scope=col>&lt;chr&gt;</th><th scope=col>&lt;chr&gt;</th></tr>\n",
       "</thead>\n",
       "<tbody>\n",
       "\t<tr><td> 0.00632</td><td> 18.00</td><td>  2.310</td><td> 6.5750</td><td> 65.20</td><td> 4.0900</td><td>  1</td><td> 296.0</td><td> 15.30</td><td>396.90</td><td>  4.98</td><td> 24.00</td></tr>\n",
       "\t<tr><td> 0.02731</td><td>  0.00</td><td>  7.070</td><td> 6.4210</td><td> 78.90</td><td> 4.9671</td><td>  2</td><td> 242.0</td><td> 17.80</td><td>396.90</td><td>  9.14</td><td> 21.60</td></tr>\n",
       "\t<tr><td> 0.02729</td><td>  0.00</td><td>  7.070</td><td> 7.1850</td><td> 61.10</td><td> 4.9671</td><td>  2</td><td> 242.0</td><td> 17.80</td><td>392.83</td><td>  4.03</td><td> 34.70</td></tr>\n",
       "\t<tr><td> 0.03237</td><td>  0.00</td><td>  2.180</td><td> 6.9980</td><td> 45.80</td><td> 6.0622</td><td>  3</td><td> 222.0</td><td> 18.70</td><td>394.63</td><td>  2.94</td><td> 33.40</td></tr>\n",
       "\t<tr><td> 0.06905</td><td>  0.00</td><td>  2.180</td><td> 7.1470</td><td> 54.20</td><td> 6.0622</td><td>  3</td><td> 222.0</td><td> 18.70</td><td>396.90</td><td>  5.33</td><td> 36.20</td></tr>\n",
       "</tbody>\n",
       "</table>\n"
      ],
      "text/latex": [
       "A tibble: 5 × 12\n",
       "\\begin{tabular}{llllllllllll}\n",
       " crim & zn & indus & rm & age & dis & rad & tax & ptratio & black & lstat & medv\\\\\n",
       " <chr> & <chr> & <chr> & <chr> & <chr> & <chr> & <chr> & <chr> & <chr> & <chr> & <chr> & <chr>\\\\\n",
       "\\hline\n",
       "\t  0.00632 &  18.00 &   2.310 &  6.5750 &  65.20 &  4.0900 &   1 &  296.0 &  15.30 & 396.90 &   4.98 &  24.00\\\\\n",
       "\t  0.02731 &   0.00 &   7.070 &  6.4210 &  78.90 &  4.9671 &   2 &  242.0 &  17.80 & 396.90 &   9.14 &  21.60\\\\\n",
       "\t  0.02729 &   0.00 &   7.070 &  7.1850 &  61.10 &  4.9671 &   2 &  242.0 &  17.80 & 392.83 &   4.03 &  34.70\\\\\n",
       "\t  0.03237 &   0.00 &   2.180 &  6.9980 &  45.80 &  6.0622 &   3 &  222.0 &  18.70 & 394.63 &   2.94 &  33.40\\\\\n",
       "\t  0.06905 &   0.00 &   2.180 &  7.1470 &  54.20 &  6.0622 &   3 &  222.0 &  18.70 & 396.90 &   5.33 &  36.20\\\\\n",
       "\\end{tabular}\n"
      ],
      "text/markdown": [
       "\n",
       "A tibble: 5 × 12\n",
       "\n",
       "| crim &lt;chr&gt; | zn &lt;chr&gt; | indus &lt;chr&gt; | rm &lt;chr&gt; | age &lt;chr&gt; | dis &lt;chr&gt; | rad &lt;chr&gt; | tax &lt;chr&gt; | ptratio &lt;chr&gt; | black &lt;chr&gt; | lstat &lt;chr&gt; | medv &lt;chr&gt; |\n",
       "|---|---|---|---|---|---|---|---|---|---|---|---|\n",
       "|  0.00632 |  18.00 |   2.310 |  6.5750 |  65.20 |  4.0900 |   1 |  296.0 |  15.30 | 396.90 |   4.98 |  24.00 |\n",
       "|  0.02731 |   0.00 |   7.070 |  6.4210 |  78.90 |  4.9671 |   2 |  242.0 |  17.80 | 396.90 |   9.14 |  21.60 |\n",
       "|  0.02729 |   0.00 |   7.070 |  7.1850 |  61.10 |  4.9671 |   2 |  242.0 |  17.80 | 392.83 |   4.03 |  34.70 |\n",
       "|  0.03237 |   0.00 |   2.180 |  6.9980 |  45.80 |  6.0622 |   3 |  222.0 |  18.70 | 394.63 |   2.94 |  33.40 |\n",
       "|  0.06905 |   0.00 |   2.180 |  7.1470 |  54.20 |  6.0622 |   3 |  222.0 |  18.70 | 396.90 |   5.33 |  36.20 |\n",
       "\n"
      ],
      "text/plain": [
       "  crim     zn     indus   rm      age    dis     rad tax    ptratio black \n",
       "1  0.00632  18.00   2.310  6.5750  65.20  4.0900   1  296.0  15.30  396.90\n",
       "2  0.02731   0.00   7.070  6.4210  78.90  4.9671   2  242.0  17.80  396.90\n",
       "3  0.02729   0.00   7.070  7.1850  61.10  4.9671   2  242.0  17.80  392.83\n",
       "4  0.03237   0.00   2.180  6.9980  45.80  6.0622   3  222.0  18.70  394.63\n",
       "5  0.06905   0.00   2.180  7.1470  54.20  6.0622   3  222.0  18.70  396.90\n",
       "  lstat  medv  \n",
       "1   4.98  24.00\n",
       "2   9.14  21.60\n",
       "3   4.03  34.70\n",
       "4   2.94  33.40\n",
       "5   5.33  36.20"
      ]
     },
     "metadata": {},
     "output_type": "display_data"
    }
   ],
   "source": [
    "housing_del_col <- select(housing, - c(chas, nox) )\n",
    "\n",
    "head(housing_del_col, 5)"
   ]
  },
  {
   "cell_type": "markdown",
   "metadata": {},
   "source": [
    "**Boston Housing Analysis**\n",
    "\n",
    "Relevant Background Information:\n",
    "\n",
    "The Boston Housing Dataset is a dataset that contains relevant information about individual residential areas describing various parameters that affect housing prices in the area of Boston, Massachusetts. This information was collected from the U.S Census Service.\n",
    "\n",
    "Below are all dataset columns:\n",
    "crim - per capita crime rate by town\n",
    "zn - proportion of residential land zoned for lots over 25,000 sq.ft.\n",
    "indus - proportion of non-retail business acres per town.\n",
    "chas - Charles River dummy variable (1 if tract bounds river; 0 otherwise) - delete\n",
    "nox - concentration of nitrous oxide compounds (pp10million) - delete\n",
    "rm - average number of rooms per dwelling \n",
    "age - proportion of owner-occupied units built prior to 1940\n",
    "dis - weighted distances to five Boston employment centres\n",
    "rad - index of accessibility to radial highways\n",
    "tax - full-value property-tax rate per 10,000 (dollars)\n",
    "ptratio - pupil-teacher ratio by town\n",
    "black - 1000(Bk - 0.63)^2 where Bk is the proportion of African-Americans by town\n",
    "lstat - % lower status of the population\n",
    "medv - Median value of owner-occupied homes in 1000's (dollars)\n",
    "These columns present correlations/causations between the data and housing prices.\n",
    "The data set was obtained from the following website: https://www.kaggle.com/c/boston-housing\n",
    "\n",
    "Question we intend to answer: Given the entry of a new house into the dataset in the 1970s, we are trying to predict the valuation of this house based on pre-existing data. This valuation is determined by various predictors of which we intend to determine which predictor has the strongest correlation to median house price in 1000’s of dollars. Of which we can also determine the most significant variable a prospective buyer should consider when purchasing a house in 1970s Boston.\n",
    "\n",
    "\n",
    "Expected Outcomes:\n",
    "\n",
    "We expect to develop a fairly accurate model to predict the valuation of houses in Boston\n",
    "\n",
    "This allows us to be aware of ball-park prices of houses in Boston so that we do not end up paying too much. This could potentially prevent real estate agents from scamming their clients. Additionally, it allows contractors to determine whether or not they should build more houses in a given area.\n",
    "\n",
    "Strongest likely predictors: *per capita crime, avg number of rooms per dwelling*\n",
    "\n",
    "\n",
    "Methodology:\n",
    "\n",
    "Determine which predictors have the highest correlation (via R2 value) using linear regression to the medv (median value of owner-occupied homes in 1000’s of dollars). We will create a correlation matrix to measure the relationship between the other variables (with the exception of nox and chas), and then use the correlation to create a scatter plot between the medv and the variable with the strongest correlation. \n",
    "\n",
    "To evaluate the model, we will compare the predicted median values of owner-occupied homes in 1000's of dollars by our model to the actual values in the test set, using only the strongest predictor variable. \n"
   ]
  },
  {
   "cell_type": "code",
   "execution_count": null,
   "metadata": {},
   "outputs": [],
   "source": []
  }
 ],
 "metadata": {
  "kernelspec": {
   "display_name": "R",
   "language": "R",
   "name": "ir"
  },
  "language_info": {
   "codemirror_mode": "r",
   "file_extension": ".r",
   "mimetype": "text/x-r-source",
   "name": "R",
   "pygments_lexer": "r",
   "version": "4.0.0"
  }
 },
 "nbformat": 4,
 "nbformat_minor": 4
}
