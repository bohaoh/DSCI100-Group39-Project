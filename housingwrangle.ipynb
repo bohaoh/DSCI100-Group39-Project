{
 "cells": [
  {
   "cell_type": "code",
   "execution_count": 1,
   "metadata": {},
   "outputs": [
    {
     "name": "stderr",
     "output_type": "stream",
     "text": [
      "── \u001b[1mAttaching packages\u001b[22m ─────────────────────────────────────── tidyverse 1.3.0 ──\n",
      "\n",
      "\u001b[32m✔\u001b[39m \u001b[34mggplot2\u001b[39m 3.3.2     \u001b[32m✔\u001b[39m \u001b[34mpurrr  \u001b[39m 0.3.4\n",
      "\u001b[32m✔\u001b[39m \u001b[34mtibble \u001b[39m 3.0.3     \u001b[32m✔\u001b[39m \u001b[34mdplyr  \u001b[39m 1.0.2\n",
      "\u001b[32m✔\u001b[39m \u001b[34mtidyr  \u001b[39m 1.1.2     \u001b[32m✔\u001b[39m \u001b[34mstringr\u001b[39m 1.4.0\n",
      "\u001b[32m✔\u001b[39m \u001b[34mreadr  \u001b[39m 1.3.1     \u001b[32m✔\u001b[39m \u001b[34mforcats\u001b[39m 0.5.0\n",
      "\n",
      "Warning message:\n",
      "“package ‘ggplot2’ was built under R version 4.0.1”\n",
      "Warning message:\n",
      "“package ‘tibble’ was built under R version 4.0.2”\n",
      "Warning message:\n",
      "“package ‘tidyr’ was built under R version 4.0.2”\n",
      "Warning message:\n",
      "“package ‘dplyr’ was built under R version 4.0.2”\n",
      "── \u001b[1mConflicts\u001b[22m ────────────────────────────────────────── tidyverse_conflicts() ──\n",
      "\u001b[31m✖\u001b[39m \u001b[34mdplyr\u001b[39m::\u001b[32mfilter()\u001b[39m masks \u001b[34mstats\u001b[39m::filter()\n",
      "\u001b[31m✖\u001b[39m \u001b[34mdplyr\u001b[39m::\u001b[32mlag()\u001b[39m    masks \u001b[34mstats\u001b[39m::lag()\n",
      "\n"
     ]
    }
   ],
   "source": [
    "library(tidyverse)"
   ]
  },
  {
   "cell_type": "code",
   "execution_count": 19,
   "metadata": {},
   "outputs": [
    {
     "name": "stderr",
     "output_type": "stream",
     "text": [
      "Parsed with column specification:\n",
      "cols(\n",
      "  crim = \u001b[31mcol_character()\u001b[39m,\n",
      "  zn = \u001b[31mcol_character()\u001b[39m,\n",
      "  indus = \u001b[31mcol_character()\u001b[39m,\n",
      "  chas = \u001b[31mcol_character()\u001b[39m,\n",
      "  nox = \u001b[31mcol_character()\u001b[39m,\n",
      "  rm = \u001b[31mcol_character()\u001b[39m,\n",
      "  age = \u001b[31mcol_character()\u001b[39m,\n",
      "  dis = \u001b[31mcol_character()\u001b[39m,\n",
      "  rad = \u001b[31mcol_character()\u001b[39m,\n",
      "  tax = \u001b[31mcol_character()\u001b[39m,\n",
      "  ptratio = \u001b[31mcol_character()\u001b[39m,\n",
      "  black = \u001b[31mcol_character()\u001b[39m,\n",
      "  lstat = \u001b[31mcol_character()\u001b[39m,\n",
      "  medv = \u001b[31mcol_character()\u001b[39m\n",
      ")\n",
      "\n"
     ]
    },
    {
     "data": {
      "text/html": [
       "<table>\n",
       "<caption>A tibble: 5 × 14</caption>\n",
       "<thead>\n",
       "\t<tr><th scope=col>crim</th><th scope=col>zn</th><th scope=col>indus</th><th scope=col>chas</th><th scope=col>nox</th><th scope=col>rm</th><th scope=col>age</th><th scope=col>dis</th><th scope=col>rad</th><th scope=col>tax</th><th scope=col>ptratio</th><th scope=col>black</th><th scope=col>lstat</th><th scope=col>medv</th></tr>\n",
       "\t<tr><th scope=col>&lt;chr&gt;</th><th scope=col>&lt;chr&gt;</th><th scope=col>&lt;chr&gt;</th><th scope=col>&lt;chr&gt;</th><th scope=col>&lt;chr&gt;</th><th scope=col>&lt;chr&gt;</th><th scope=col>&lt;chr&gt;</th><th scope=col>&lt;chr&gt;</th><th scope=col>&lt;chr&gt;</th><th scope=col>&lt;chr&gt;</th><th scope=col>&lt;chr&gt;</th><th scope=col>&lt;chr&gt;</th><th scope=col>&lt;chr&gt;</th><th scope=col>&lt;chr&gt;</th></tr>\n",
       "</thead>\n",
       "<tbody>\n",
       "\t<tr><td> 0.00632</td><td> 18.00</td><td>  2.310</td><td> 0</td><td> 0.5380</td><td> 6.5750</td><td> 65.20</td><td> 4.0900</td><td>  1</td><td> 296.0</td><td> 15.30</td><td>396.90</td><td>  4.98</td><td> 24.00</td></tr>\n",
       "\t<tr><td> 0.02731</td><td>  0.00</td><td>  7.070</td><td> 0</td><td> 0.4690</td><td> 6.4210</td><td> 78.90</td><td> 4.9671</td><td>  2</td><td> 242.0</td><td> 17.80</td><td>396.90</td><td>  9.14</td><td> 21.60</td></tr>\n",
       "\t<tr><td> 0.02729</td><td>  0.00</td><td>  7.070</td><td> 0</td><td> 0.4690</td><td> 7.1850</td><td> 61.10</td><td> 4.9671</td><td>  2</td><td> 242.0</td><td> 17.80</td><td>392.83</td><td>  4.03</td><td> 34.70</td></tr>\n",
       "\t<tr><td> 0.03237</td><td>  0.00</td><td>  2.180</td><td> 0</td><td> 0.4580</td><td> 6.9980</td><td> 45.80</td><td> 6.0622</td><td>  3</td><td> 222.0</td><td> 18.70</td><td>394.63</td><td>  2.94</td><td> 33.40</td></tr>\n",
       "\t<tr><td> 0.06905</td><td>  0.00</td><td>  2.180</td><td> 0</td><td> 0.4580</td><td> 7.1470</td><td> 54.20</td><td> 6.0622</td><td>  3</td><td> 222.0</td><td> 18.70</td><td>396.90</td><td>  5.33</td><td> 36.20</td></tr>\n",
       "</tbody>\n",
       "</table>\n"
      ],
      "text/latex": [
       "A tibble: 5 × 14\n",
       "\\begin{tabular}{llllllllllllll}\n",
       " crim & zn & indus & chas & nox & rm & age & dis & rad & tax & ptratio & black & lstat & medv\\\\\n",
       " <chr> & <chr> & <chr> & <chr> & <chr> & <chr> & <chr> & <chr> & <chr> & <chr> & <chr> & <chr> & <chr> & <chr>\\\\\n",
       "\\hline\n",
       "\t  0.00632 &  18.00 &   2.310 &  0 &  0.5380 &  6.5750 &  65.20 &  4.0900 &   1 &  296.0 &  15.30 & 396.90 &   4.98 &  24.00\\\\\n",
       "\t  0.02731 &   0.00 &   7.070 &  0 &  0.4690 &  6.4210 &  78.90 &  4.9671 &   2 &  242.0 &  17.80 & 396.90 &   9.14 &  21.60\\\\\n",
       "\t  0.02729 &   0.00 &   7.070 &  0 &  0.4690 &  7.1850 &  61.10 &  4.9671 &   2 &  242.0 &  17.80 & 392.83 &   4.03 &  34.70\\\\\n",
       "\t  0.03237 &   0.00 &   2.180 &  0 &  0.4580 &  6.9980 &  45.80 &  6.0622 &   3 &  222.0 &  18.70 & 394.63 &   2.94 &  33.40\\\\\n",
       "\t  0.06905 &   0.00 &   2.180 &  0 &  0.4580 &  7.1470 &  54.20 &  6.0622 &   3 &  222.0 &  18.70 & 396.90 &   5.33 &  36.20\\\\\n",
       "\\end{tabular}\n"
      ],
      "text/markdown": [
       "\n",
       "A tibble: 5 × 14\n",
       "\n",
       "| crim &lt;chr&gt; | zn &lt;chr&gt; | indus &lt;chr&gt; | chas &lt;chr&gt; | nox &lt;chr&gt; | rm &lt;chr&gt; | age &lt;chr&gt; | dis &lt;chr&gt; | rad &lt;chr&gt; | tax &lt;chr&gt; | ptratio &lt;chr&gt; | black &lt;chr&gt; | lstat &lt;chr&gt; | medv &lt;chr&gt; |\n",
       "|---|---|---|---|---|---|---|---|---|---|---|---|---|---|\n",
       "|  0.00632 |  18.00 |   2.310 |  0 |  0.5380 |  6.5750 |  65.20 |  4.0900 |   1 |  296.0 |  15.30 | 396.90 |   4.98 |  24.00 |\n",
       "|  0.02731 |   0.00 |   7.070 |  0 |  0.4690 |  6.4210 |  78.90 |  4.9671 |   2 |  242.0 |  17.80 | 396.90 |   9.14 |  21.60 |\n",
       "|  0.02729 |   0.00 |   7.070 |  0 |  0.4690 |  7.1850 |  61.10 |  4.9671 |   2 |  242.0 |  17.80 | 392.83 |   4.03 |  34.70 |\n",
       "|  0.03237 |   0.00 |   2.180 |  0 |  0.4580 |  6.9980 |  45.80 |  6.0622 |   3 |  222.0 |  18.70 | 394.63 |   2.94 |  33.40 |\n",
       "|  0.06905 |   0.00 |   2.180 |  0 |  0.4580 |  7.1470 |  54.20 |  6.0622 |   3 |  222.0 |  18.70 | 396.90 |   5.33 |  36.20 |\n",
       "\n"
      ],
      "text/plain": [
       "  crim     zn     indus   chas nox     rm      age    dis     rad tax   \n",
       "1  0.00632  18.00   2.310  0    0.5380  6.5750  65.20  4.0900   1  296.0\n",
       "2  0.02731   0.00   7.070  0    0.4690  6.4210  78.90  4.9671   2  242.0\n",
       "3  0.02729   0.00   7.070  0    0.4690  7.1850  61.10  4.9671   2  242.0\n",
       "4  0.03237   0.00   2.180  0    0.4580  6.9980  45.80  6.0622   3  222.0\n",
       "5  0.06905   0.00   2.180  0    0.4580  7.1470  54.20  6.0622   3  222.0\n",
       "  ptratio black  lstat  medv  \n",
       "1  15.30  396.90   4.98  24.00\n",
       "2  17.80  396.90   9.14  21.60\n",
       "3  17.80  392.83   4.03  34.70\n",
       "4  18.70  394.63   2.94  33.40\n",
       "5  18.70  396.90   5.33  36.20"
      ]
     },
     "metadata": {},
     "output_type": "display_data"
    }
   ],
   "source": [
    "housing<- read_delim(\"housing.csv\", col_names = c(\"crim\", \"zn\", \"indus\", \"chas\", \"nox\", \"rm\", \"age\", \"dis\", \"rad\", \"tax\", \"ptratio\", \"black\", \"lstat\", \"medv\"),\n",
    "                  delim = ' '\n",
    "                  )\n",
    "head(housing, 5)"
   ]
  },
  {
   "cell_type": "code",
   "execution_count": 21,
   "metadata": {},
   "outputs": [
    {
     "name": "stderr",
     "output_type": "stream",
     "text": [
      "Warning message in x:y:\n",
      "“numerical expression has 13 elements: only the first used”\n"
     ]
    },
    {
     "data": {
      "text/html": [
       "<table>\n",
       "<caption>A tibble: 5 × 5</caption>\n",
       "<thead>\n",
       "\t<tr><th scope=col>crim</th><th scope=col>zn</th><th scope=col>indus</th><th scope=col>chas</th><th scope=col>nox</th></tr>\n",
       "\t<tr><th scope=col>&lt;chr&gt;</th><th scope=col>&lt;chr&gt;</th><th scope=col>&lt;chr&gt;</th><th scope=col>&lt;chr&gt;</th><th scope=col>&lt;chr&gt;</th></tr>\n",
       "</thead>\n",
       "<tbody>\n",
       "\t<tr><td> 0.00632</td><td> 18.00</td><td>  2.310</td><td> 0</td><td> 0.5380</td></tr>\n",
       "\t<tr><td> 0.02731</td><td>  0.00</td><td>  7.070</td><td> 0</td><td> 0.4690</td></tr>\n",
       "\t<tr><td> 0.02729</td><td>  0.00</td><td>  7.070</td><td> 0</td><td> 0.4690</td></tr>\n",
       "\t<tr><td> 0.03237</td><td>  0.00</td><td>  2.180</td><td> 0</td><td> 0.4580</td></tr>\n",
       "\t<tr><td> 0.06905</td><td>  0.00</td><td>  2.180</td><td> 0</td><td> 0.4580</td></tr>\n",
       "</tbody>\n",
       "</table>\n"
      ],
      "text/latex": [
       "A tibble: 5 × 5\n",
       "\\begin{tabular}{lllll}\n",
       " crim & zn & indus & chas & nox\\\\\n",
       " <chr> & <chr> & <chr> & <chr> & <chr>\\\\\n",
       "\\hline\n",
       "\t  0.00632 &  18.00 &   2.310 &  0 &  0.5380\\\\\n",
       "\t  0.02731 &   0.00 &   7.070 &  0 &  0.4690\\\\\n",
       "\t  0.02729 &   0.00 &   7.070 &  0 &  0.4690\\\\\n",
       "\t  0.03237 &   0.00 &   2.180 &  0 &  0.4580\\\\\n",
       "\t  0.06905 &   0.00 &   2.180 &  0 &  0.4580\\\\\n",
       "\\end{tabular}\n"
      ],
      "text/markdown": [
       "\n",
       "A tibble: 5 × 5\n",
       "\n",
       "| crim &lt;chr&gt; | zn &lt;chr&gt; | indus &lt;chr&gt; | chas &lt;chr&gt; | nox &lt;chr&gt; |\n",
       "|---|---|---|---|---|\n",
       "|  0.00632 |  18.00 |   2.310 |  0 |  0.5380 |\n",
       "|  0.02731 |   0.00 |   7.070 |  0 |  0.4690 |\n",
       "|  0.02729 |   0.00 |   7.070 |  0 |  0.4690 |\n",
       "|  0.03237 |   0.00 |   2.180 |  0 |  0.4580 |\n",
       "|  0.06905 |   0.00 |   2.180 |  0 |  0.4580 |\n",
       "\n"
      ],
      "text/plain": [
       "  crim     zn     indus   chas nox    \n",
       "1  0.00632  18.00   2.310  0    0.5380\n",
       "2  0.02731   0.00   7.070  0    0.4690\n",
       "3  0.02729   0.00   7.070  0    0.4690\n",
       "4  0.03237   0.00   2.180  0    0.4580\n",
       "5  0.06905   0.00   2.180  0    0.4580"
      ]
     },
     "metadata": {},
     "output_type": "display_data"
    }
   ],
   "source": [
    "housing_del_col <- select(housing, - cchasnox)\n",
    "\n",
    "head(housing_del_col, 5)"
   ]
  },
  {
   "cell_type": "code",
   "execution_count": null,
   "metadata": {},
   "outputs": [],
   "source": []
  }
 ],
 "metadata": {
  "kernelspec": {
   "display_name": "R",
   "language": "R",
   "name": "ir"
  },
  "language_info": {
   "codemirror_mode": "r",
   "file_extension": ".r",
   "mimetype": "text/x-r-source",
   "name": "R",
   "pygments_lexer": "r",
   "version": "4.0.0"
  }
 },
 "nbformat": 4,
 "nbformat_minor": 4
}
